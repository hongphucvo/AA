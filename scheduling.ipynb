{
  "nbformat": 4,
  "nbformat_minor": 0,
  "metadata": {
    "colab": {
      "name": "scheduling.ipynb",
      "provenance": [],
      "toc_visible": true,
      "include_colab_link": true
    },
    "kernelspec": {
      "name": "python3",
      "display_name": "Python 3"
    },
    "language_info": {
      "name": "python"
    }
  },
  "cells": [
    {
      "cell_type": "markdown",
      "metadata": {
        "id": "view-in-github",
        "colab_type": "text"
      },
      "source": [
        "<a href=\"https://colab.research.google.com/github/hongphucvo/AA/blob/main/scheduling.ipynb\" target=\"_parent\"><img src=\"https://colab.research.google.com/assets/colab-badge.svg\" alt=\"Open In Colab\"/></a>"
      ]
    },
    {
      "cell_type": "markdown",
      "source": [
        "# Student informations"
      ],
      "metadata": {
        "id": "q-Eas3AgA6pa"
      }
    },
    {
      "cell_type": "markdown",
      "source": [
        "This is the working result of 5 students:\n",
        "\n",
        "*   Phan Le Tuan Anh: 1811442\n",
        "*   Tran Khuong Duy:  1811744\n",
        "*   Thai Phuc Hiep:   1812227\n",
        "*   Vo Hong Phuc:     1911881\n",
        "*   Nguyen Tien Dat:  1811884\n",
        "\n"
      ],
      "metadata": {
        "id": "8wfLda4h_O0K"
      }
    },
    {
      "cell_type": "markdown",
      "source": [
        "# Problem Define"
      ],
      "metadata": {
        "id": "TdscX3guA0CI"
      }
    },
    {
      "cell_type": "markdown",
      "source": [
        "Automatic scheduling is the demanding of busy people, who often spend time on making the plan to be efficient. Not only does it help human, but it also solved the problem of industrial company to be more productive."
      ],
      "metadata": {
        "id": "23Oqo9yoBFyB"
      }
    },
    {
      "cell_type": "markdown",
      "source": [
        "## PSP (Personal Scheduling Problem):\n",
        "\n",
        "Assume that in the set of n jobs (***J =  {J1, J2, ... , Jn}***), we have to assign all of them into m window times (***W = {W1, W2, ... , Wm}***). However, these job are splittable, as long as we don't break a jobs into more than ***split_min*** segments. The purpose of solving this problem is to minimize ***Cmax*** - the time all of the jobs had finished.\n",
        "\n",
        "\n",
        "> PSP: 1|splittable;split_min;available-window|Cmax\n",
        "\n",
        "\n",
        "\n",
        "\n",
        "\n",
        "\n"
      ],
      "metadata": {
        "id": "rh7NhP-qEEHC"
      }
    },
    {
      "cell_type": "markdown",
      "source": [
        "## TWSPwJP (Team Work Scheduling Problem):\n",
        "In PSP, different subjobs of a job can be assigned to multiple different people, which conflict the constraint of consitency for this job. \n",
        "\n",
        "The TWSPwJP problem allows every job to be splitted but assigned to only 1 person. "
      ],
      "metadata": {
        "id": "Wfh_EQyVIROX"
      }
    },
    {
      "cell_type": "markdown",
      "source": [
        "# Modelling TWSPwJP\n",
        "\n",
        "## Determine variable\n",
        "\n",
        "\n",
        "*   x[i,j,t]:  represent the state whether Ji is assigned to Mj at the time Wt (boolean: 0, 1)\n",
        "*   y[i,j,t]: represent execute time of job/subjob Ji in Mj at Wt, correspond to x[i,j,t] (int: 10, 11, 15, ...)\n",
        "* s[i,j,t]: start time of this job/subjob Ji in Mj at Wt, correspond to x[i,j,t] (int: 10, 11, 15, ...)\n",
        "* z[i,j]: represent the state whether Ji is assigned to Mj (boolean: 0, 1)\n",
        "* v[i1, i2, j, t]: additional variable in linear modelling technique\n",
        "\n",
        "## Intermediary variable\n",
        "\n",
        "* c[i,j,t] = s[i,j,t] + y[i,j,t] : finish time of job/subjob Ji in Mj at Wt\n",
        "* Ci = max (c[i,j,t]) : finish time of job Ji\n",
        "* Cmax = max (Ci) : finish time of every job in the set J\n",
        "\n",
        "## Target function:\n",
        "> min (Cmax)\n",
        "\n",
        "## Constraint:\n",
        "### 1. Total \n",
        "\n"
      ],
      "metadata": {
        "id": "GjANpHCGdIkS"
      }
    },
    {
      "cell_type": "markdown",
      "source": [
        "# Implementation\n",
        "ádsdasd"
      ],
      "metadata": {
        "id": "t28dCSS9dWoa"
      }
    },
    {
      "cell_type": "markdown",
      "source": [
        "## Library Install\n",
        "In this solution, after modeling the problem, we use these following Python packages and libraries to support:\n",
        "1. cplex: IBM CPLEX Optimizer API library to create mathematical optimizations.\n",
        "2. docplex: IBM Decision Optimization CPLEX Modeling for Python.\n",
        "3. cvxpy: library to convex optimization problems. \n",
        "4. json: parsing .json file library\n",
        "5. numpy: fundamental package for scientific computing"
      ],
      "metadata": {
        "id": "cpPC_MRqSeVv"
      }
    },
    {
      "cell_type": "code",
      "source": [
        "! pip install cplex docplex"
      ],
      "metadata": {
        "colab": {
          "base_uri": "https://localhost:8080/"
        },
        "id": "K9vla-j5u6eP",
        "outputId": "fb6bf4f2-8e9b-4c65-9e8b-3cb72836f9d2"
      },
      "execution_count": null,
      "outputs": [
        {
          "output_type": "stream",
          "name": "stdout",
          "text": [
            "Collecting cplex\n",
            "  Downloading cplex-22.1.0.0-cp37-cp37m-manylinux1_x86_64.whl (43.3 MB)\n",
            "\u001b[K     |████████████████████████████████| 43.3 MB 1.4 MB/s \n",
            "\u001b[?25hCollecting docplex\n",
            "  Downloading docplex-2.23.222.tar.gz (610 kB)\n",
            "\u001b[K     |████████████████████████████████| 610 kB 41.9 MB/s \n",
            "\u001b[?25hRequirement already satisfied: six in /usr/local/lib/python3.7/dist-packages (from docplex) (1.15.0)\n",
            "Building wheels for collected packages: docplex\n",
            "  Building wheel for docplex (setup.py) ... \u001b[?25l\u001b[?25hdone\n",
            "  Created wheel for docplex: filename=docplex-2.23.222-py3-none-any.whl size=662847 sha256=a6a433d2dc28fbcdb10b48cd9ec9abf72d0969b2642374c8aab4bc90b46709dd\n",
            "  Stored in directory: /root/.cache/pip/wheels/a7/c9/fb/cee5a89f304e77a39c466e625ac2830434b76eb8384999d116\n",
            "Successfully built docplex\n",
            "Installing collected packages: docplex, cplex\n",
            "Successfully installed cplex-22.1.0.0 docplex-2.23.222\n"
          ]
        }
      ]
    },
    {
      "cell_type": "code",
      "execution_count": null,
      "metadata": {
        "id": "Y3dw1JEVukaQ"
      },
      "outputs": [],
      "source": [
        "from docplex.mp.model import *\n",
        "from docplex.cp.model import *\n",
        "import cvxpy as cp\n",
        "import json\n",
        "import numpy as np"
      ]
    },
    {
      "cell_type": "markdown",
      "source": [
        "## Input dataset\n",
        "Attribute meanings:\n",
        "\n",
        "\n",
        "1.   \"Jobs\": the set of n jobs we have to assign. Each job has 3 attributes:\n",
        "\n",
        "> 1.1. \"Name\": The string that specify each job (string: \"J1\", \"J2\", ...)\n",
        "\n",
        "> 1.2. \"Processing\": The total time to finish this job (int: 1, 5, 10, ...)\n",
        "\n",
        "> 1.3. \"Remaining\": The remaining time of this job after some subjobs are assigned (int: 1, 5, 10, ...)\n",
        "\n",
        "2.   \"Machines\": the set of m machines/people/workers. Each machines has 2 attributes:\n",
        "\n",
        "> 2.1. \"Name\": The string that specify each people (string: \"M1\", \"M2\", ...)\n",
        "\n",
        "> 2.2. \"Windows\": The set of available windows of this machine. Each window contains:\n",
        "\n",
        "> > 2.2.1. \"Name\": Name of the window\n",
        "\n",
        "> > 2.2.2. \"StartTime\": Start timestamp of this window\n",
        "\n",
        "> > 2.2.3. \"Capacity\": Capacity/the length of this available window\n",
        "\n",
        "> > 2.2.4. \"Remaining\": The size of available time in this window\n",
        "\n",
        "> > 2.2.5. \"SubJobs\": List of assigned job\n",
        "\n",
        "3.   \"Splitmin\": minimum size of a subjob (int: 1, 2, 3, ...)\n",
        "\n",
        "4.   \"Optimal\": The ealiest time to finish all jobs (int: 10, 20, 25, ...)"
      ],
      "metadata": {
        "id": "myrKV-Rw95Fw"
      }
    },
    {
      "cell_type": "markdown",
      "source": [
        "**Test dataset: DS0/input2.json**\n",
        "> n = 10\n",
        "\n",
        "> m = 2"
      ],
      "metadata": {
        "id": "iE7KaUnSaZnI"
      }
    },
    {
      "cell_type": "code",
      "source": [
        "f = open('/content/input2.json')\n",
        " \n",
        "data = json.load(f)\n",
        "f.close()"
      ],
      "metadata": {
        "id": "4uR_dzRAwVbL"
      },
      "execution_count": null,
      "outputs": []
    },
    {
      "cell_type": "code",
      "source": [
        "n_jobs = len(data['Jobs'])\n",
        "J = []\n",
        "for job in data['Jobs']:\n",
        "    J += [job['Processing']]\n",
        "\n",
        "J = np.array(J)"
      ],
      "metadata": {
        "id": "Tmgh7Z_Cwmyi"
      },
      "execution_count": null,
      "outputs": []
    },
    {
      "cell_type": "code",
      "source": [
        "n_machines = len(data['Machines'])\n",
        "n_windows = 0\n",
        "\n",
        "W_cap = []\n",
        "W_start = []\n",
        "for i, machine in enumerate(data['Machines']):\n",
        "    n_windows += len(machine['Windows'])\n",
        "    for j, window in enumerate(machine['Windows']):\n",
        "        cap = np.zeros(n_machines)\n",
        "        cap[i] = window['Capacity']\n",
        "        W_cap += [cap]\n",
        "        start = np.array([99999]*n_machines)\n",
        "        start[i] = window['StartTime']\n",
        "        W_start += [start]\n",
        "\n",
        "W_cap = np.array(W_cap)\n",
        "W_start = np.array(W_start)\n",
        "W_cap = np.moveaxis(W_cap, 0, -1)\n",
        "W_start = np.moveaxis(W_start, 0, -1)"
      ],
      "metadata": {
        "id": "TrihAoW0xAy8"
      },
      "execution_count": null,
      "outputs": []
    },
    {
      "cell_type": "code",
      "source": [
        "splitmin = data['Splitmin']"
      ],
      "metadata": {
        "id": "OBz3iXgUWLQX"
      },
      "execution_count": null,
      "outputs": []
    },
    {
      "cell_type": "markdown",
      "source": [
        "## Create model and add constrains"
      ],
      "metadata": {
        "id": "QqvYbeKO9-3h"
      }
    },
    {
      "cell_type": "markdown",
      "source": [
        "Our models "
      ],
      "metadata": {
        "id": "v1-yaizdXIel"
      }
    },
    {
      "cell_type": "code",
      "source": [
        "model = CpoModel()"
      ],
      "metadata": {
        "id": "63FhKg2RAnBj"
      },
      "execution_count": null,
      "outputs": []
    },
    {
      "cell_type": "code",
      "source": [
        "x = [[[binary_var() for k in range(n_windows)] for j in range(n_machines)] for i in range(n_jobs)]\n",
        "y = [[[integer_var(min=0, max=J.max()) for k in range(n_windows)] for j in range(n_machines)] for i in range(n_jobs)]\n",
        "#for i in range(n_jobs):\n",
        "#    for j in range(n_machines):\n",
        "#        for k in range(n_windows):\n",
        "#            model.add(x[i][j][k])\n",
        "#            model.add(y[i][j][k])\n",
        "xy = [[[x[i][j][k]*y[i][j][k] for k in range(n_windows)] for j in range(n_machines)] for i in range(n_jobs)]\n"
      ],
      "metadata": {
        "id": "eeNhlhbSVMSB"
      },
      "execution_count": null,
      "outputs": []
    },
    {
      "cell_type": "code",
      "source": [
        "# subjob >= splitmin\n",
        "for i in range(n_jobs):\n",
        "    for j in range(n_machines):\n",
        "        for k in range(n_windows):\n",
        "            model.add_constraint(y[i][j][k] >= splitmin)\n"
      ],
      "metadata": {
        "id": "aDB7RF9_VQBT"
      },
      "execution_count": null,
      "outputs": []
    },
    {
      "cell_type": "code",
      "source": [
        "# 1 job chi gan cho 1 manchine\n",
        "for i in range(n_jobs):\n",
        "    for j1 in range(n_machines-1):\n",
        "        x1 = sum([x[i][j1][k] for k in range(n_windows)])\n",
        "        for j2 in range(j1+1, n_machines):\n",
        "            x2 = sum([x[i][j2][k] for k in range(n_windows)])\n",
        "            model.add_constraint(x1*x2 == 0)\n"
      ],
      "metadata": {
        "id": "cq2rEmb7VR2Z"
      },
      "execution_count": null,
      "outputs": []
    },
    {
      "cell_type": "code",
      "source": [
        "# tong time trong 1 window <= capacity\n",
        "for j in range(n_machines):\n",
        "    for k in range(n_windows):\n",
        "        sum_xy = sum([xy[i][j][k] for i in range(n_jobs)])\n",
        "        model.add_constraint(sum_xy <= W_cap[j,k])\n"
      ],
      "metadata": {
        "id": "nRjo38OYVRqe"
      },
      "execution_count": null,
      "outputs": []
    },
    {
      "cell_type": "code",
      "source": [
        "# tong time subjob = job\n",
        "for i in range(n_jobs):\n",
        "    sum_xy = sum([xy[i][j][k] for j in range(n_machines) for k in range(n_windows)])\n",
        "    model.add_constraint(sum_xy == J[i])\n"
      ],
      "metadata": {
        "id": "CswNP_VaVRca"
      },
      "execution_count": null,
      "outputs": []
    },
    {
      "cell_type": "code",
      "source": [
        "# Cmax\n",
        "C = []\n",
        "for j in range(n_machines):\n",
        "    for k in range(n_windows):\n",
        "        sum_xy = sum([x[i][j][k]*y[i][j][k] for i in range(n_jobs)])\n",
        "        max_x = max([x[i][j][k] for i in range(n_jobs)])\n",
        "        c = max_x*(sum_xy+W_start[j,k])\n",
        "        #sum_xy = sum([x[i][j][k]*y[i][j][k] for i in range(n_jobs)])\n",
        "        #c = sum_xy+W_start[j,k]\n",
        "        C += [c]\n",
        "\n",
        "cmax = max(C)"
      ],
      "metadata": {
        "id": "nmRiGAR5LP15"
      },
      "execution_count": null,
      "outputs": []
    },
    {
      "cell_type": "code",
      "source": [
        "model.minimize(cmax)"
      ],
      "metadata": {
        "colab": {
          "base_uri": "https://localhost:8080/"
        },
        "id": "M9DChUDlMbND",
        "outputId": "4e8f2780-f36a-44c9-fc57-76315a949106"
      },
      "execution_count": null,
      "outputs": [
        {
          "output_type": "execute_result",
          "data": {
            "text/plain": [
              "<docplex.cp.expression.CpoFunctionCall at 0x7f504acebc80>"
            ]
          },
          "metadata": {},
          "execution_count": 81
        }
      ]
    },
    {
      "cell_type": "markdown",
      "source": [
        "## Solve"
      ],
      "metadata": {
        "id": "AlXQLasP-DON"
      }
    },
    {
      "cell_type": "code",
      "source": [
        "sol = model.solve(TimeLimit=240)"
      ],
      "metadata": {
        "colab": {
          "base_uri": "https://localhost:8080/"
        },
        "id": "K8Otf8Q1IzOd",
        "outputId": "14d428b7-6a3a-4aa9-b2c7-42646136dfc1"
      },
      "execution_count": null,
      "outputs": [
        {
          "output_type": "stream",
          "name": "stdout",
          "text": [
            " ! --------------------------------------------------- CP Optimizer 22.1.0.0 --\n",
            " ! Minimization problem - 468 variables, 297 constraints\n",
            " ! Presolve      : 36 extractables eliminated\n",
            " ! TimeLimit            = 240\n",
            " ! Initial process time : 0.01s (0.01s extraction + 0.00s propagation)\n",
            " !  . Log search space  : 780.0 (before), 780.0 (after)\n",
            " !  . Memory usage      : 671.3 kB (before), 671.3 kB (after)\n",
            " ! Using parallel search with 2 workers.\n",
            " ! ----------------------------------------------------------------------------\n",
            " !          Best Branches  Non-fixed    W       Branch decision\n",
            "                        0        468                 -\n",
            " + New bound is 0\n",
            "                        2        252    1   F     0 != _INT_270\n",
            " + New bound is 1\n",
            " *            45      301  0.05s        1      (gap is 97.78%)\n",
            " *            27      543  0.05s        1      (gap is 96.30%)\n",
            "              27     1000          1    1         5  = _INT_69\n",
            "              27     1000          1    2         7  = _INT_127\n",
            "              27     2000          1    1         4  = _INT_160\n",
            " *            24     1400  0.09s        2      (gap is 95.83%)\n",
            "              24     2000          1    2        10  = _INT_192\n",
            "              24     3000          1    2         4  = _INT_38\n",
            "              24     3000          1    1   F     0 != _INT_393\n",
            "              24     4000          1    2         3  = _INT_43\n",
            " *            23     4027  0.14s        2      (gap is 95.65%)\n",
            " *            21     4280  0.14s        2      (gap is 95.24%)\n",
            " *            19     3741  0.14s        1      (gap is 94.74%)\n",
            " *            18     3985  0.14s        1      (gap is 94.44%)\n",
            "              18     4000          1    1         0  = _INT_465\n",
            "              18     5000          1    2   F     1 != _INT_448\n",
            " *            17     4437  0.17s        1      (gap is 94.12%)\n",
            "              17     5000          1    1   F     0  = _INT_393\n",
            " ! Time = 0.17s, Average fail depth = 140, Memory usage = 5.2 MB\n",
            " ! Current bound is 1 (gap is 94.12%)\n",
            " !          Best Branches  Non-fixed    W       Branch decision\n",
            "              17     6000          1    2   F     9  = _INT_58\n",
            " *            16     5427  0.20s        1      (gap is 93.75%)\n",
            "              16     6000          1    1   F     0 != _INT_350\n",
            " *            15     6243  0.21s        1      (gap is 93.33%)\n",
            "              15     7000          1    1         6  = _INT_21\n",
            "              15     7000          1    2   F     0 != _INT_309\n",
            "              15     8000         14    1   F     0 != _INT_352\n",
            "              15     8000         15    2         5  = _INT_135\n",
            "              15     8288        235    1            -\n",
            " + New bound is 15 (gap is 0.00%)\n",
            " ! ----------------------------------------------------------------------------\n",
            " ! Search completed, 10 solutions found.\n",
            " ! Best objective         : 15 (optimal - effective tol. is 0)\n",
            " ! Best bound             : 15\n",
            " ! ----------------------------------------------------------------------------\n",
            " ! Number of branches     : 16707\n",
            " ! Number of fails        : 3430\n",
            " ! Total memory usage     : 5.8 MB (5.7 MB CP Optimizer + 0.1 MB Concert)\n",
            " ! Time spent in solve    : 0.25s (0.25s engine + 0.01s extraction)\n",
            " ! Search speed (br. / s) : 69612.5\n",
            " ! ----------------------------------------------------------------------------\n"
          ]
        }
      ]
    },
    {
      "cell_type": "markdown",
      "source": [
        ""
      ],
      "metadata": {
        "id": "HI5m8sTt-XOy"
      }
    },
    {
      "cell_type": "code",
      "source": [
        "x_result = []\n",
        "for i in range(n_jobs):\n",
        "    tmp_x = []\n",
        "    for j in range(n_machines):\n",
        "        tmp_x += [np.array([sol[x[i][j][k]] for k in range(n_windows)])]\n",
        "    tmp_x = np.array(tmp_x)\n",
        "    x_result += [tmp_x]\n",
        "\n",
        "x_result = np.array(x_result)"
      ],
      "metadata": {
        "id": "D8gT7SHXe7rW"
      },
      "execution_count": null,
      "outputs": []
    },
    {
      "cell_type": "code",
      "source": [
        "xy_result = []\n",
        "for i in range(n_jobs):\n",
        "    tmp_xy = []\n",
        "    for j in range(n_machines):\n",
        "        tmp_xy += [np.array([sol[x[i][j][k]]*sol[y[i][j][k]] for k in range(n_windows)])]\n",
        "    tmp_xy = np.array(tmp_xy)\n",
        "    xy_result += [tmp_xy]\n",
        "\n",
        "xy_result = np.array(xy_result)"
      ],
      "metadata": {
        "id": "kHAYY0mAaNVQ"
      },
      "execution_count": null,
      "outputs": []
    },
    {
      "cell_type": "code",
      "source": [
        "x_result"
      ],
      "metadata": {
        "colab": {
          "base_uri": "https://localhost:8080/"
        },
        "id": "tQ7Fh4vhfAjh",
        "outputId": "b46082c0-3b50-40ef-8198-4a2730b99d94"
      },
      "execution_count": null,
      "outputs": [
        {
          "output_type": "execute_result",
          "data": {
            "text/plain": [
              "array([[[0, 0, 0, 0, 0, 0, 0, 0, 0, 0, 0, 0, 0],\n",
              "        [0, 0, 0, 0, 0, 0, 0, 0, 0, 0, 0, 0, 0],\n",
              "        [0, 0, 0, 0, 0, 0, 0, 0, 0, 1, 0, 0, 0]],\n",
              "\n",
              "       [[0, 0, 0, 0, 0, 0, 0, 0, 0, 0, 0, 0, 0],\n",
              "        [0, 0, 0, 0, 0, 0, 0, 0, 0, 0, 0, 0, 0],\n",
              "        [0, 0, 0, 0, 0, 0, 0, 0, 0, 0, 1, 0, 0]],\n",
              "\n",
              "       [[0, 1, 1, 0, 0, 0, 0, 0, 0, 0, 0, 0, 0],\n",
              "        [0, 0, 0, 0, 0, 0, 0, 0, 0, 0, 0, 0, 0],\n",
              "        [0, 0, 0, 0, 0, 0, 0, 0, 0, 0, 0, 0, 0]],\n",
              "\n",
              "       [[0, 0, 0, 0, 0, 0, 0, 0, 0, 0, 0, 0, 0],\n",
              "        [0, 0, 0, 0, 1, 0, 0, 0, 0, 0, 0, 0, 0],\n",
              "        [0, 0, 0, 0, 0, 0, 0, 0, 0, 0, 0, 0, 0]],\n",
              "\n",
              "       [[0, 0, 0, 0, 0, 0, 0, 0, 0, 0, 0, 0, 0],\n",
              "        [0, 0, 0, 0, 0, 1, 1, 0, 0, 0, 0, 0, 0],\n",
              "        [0, 0, 0, 0, 0, 0, 0, 0, 0, 0, 0, 0, 0]],\n",
              "\n",
              "       [[1, 0, 0, 0, 0, 0, 0, 0, 0, 0, 0, 0, 0],\n",
              "        [0, 0, 0, 0, 0, 0, 0, 0, 0, 0, 0, 0, 0],\n",
              "        [0, 0, 0, 0, 0, 0, 0, 0, 0, 0, 0, 0, 0]]])"
            ]
          },
          "metadata": {},
          "execution_count": 85
        }
      ]
    },
    {
      "cell_type": "code",
      "source": [
        "xy_result"
      ],
      "metadata": {
        "colab": {
          "base_uri": "https://localhost:8080/"
        },
        "id": "B4YkdGTme4hc",
        "outputId": "b8d1e51e-efda-4ea7-b6e1-c8dfdb64e0af"
      },
      "execution_count": null,
      "outputs": [
        {
          "output_type": "execute_result",
          "data": {
            "text/plain": [
              "array([[[0, 0, 0, 0, 0, 0, 0, 0, 0, 0, 0, 0, 0],\n",
              "        [0, 0, 0, 0, 0, 0, 0, 0, 0, 0, 0, 0, 0],\n",
              "        [0, 0, 0, 0, 0, 0, 0, 0, 0, 6, 0, 0, 0]],\n",
              "\n",
              "       [[0, 0, 0, 0, 0, 0, 0, 0, 0, 0, 0, 0, 0],\n",
              "        [0, 0, 0, 0, 0, 0, 0, 0, 0, 0, 0, 0, 0],\n",
              "        [0, 0, 0, 0, 0, 0, 0, 0, 0, 0, 7, 0, 0]],\n",
              "\n",
              "       [[0, 5, 3, 0, 0, 0, 0, 0, 0, 0, 0, 0, 0],\n",
              "        [0, 0, 0, 0, 0, 0, 0, 0, 0, 0, 0, 0, 0],\n",
              "        [0, 0, 0, 0, 0, 0, 0, 0, 0, 0, 0, 0, 0]],\n",
              "\n",
              "       [[0, 0, 0, 0, 0, 0, 0, 0, 0, 0, 0, 0, 0],\n",
              "        [0, 0, 0, 0, 5, 0, 0, 0, 0, 0, 0, 0, 0],\n",
              "        [0, 0, 0, 0, 0, 0, 0, 0, 0, 0, 0, 0, 0]],\n",
              "\n",
              "       [[0, 0, 0, 0, 0, 0, 0, 0, 0, 0, 0, 0, 0],\n",
              "        [0, 0, 0, 0, 0, 6, 4, 0, 0, 0, 0, 0, 0],\n",
              "        [0, 0, 0, 0, 0, 0, 0, 0, 0, 0, 0, 0, 0]],\n",
              "\n",
              "       [[4, 0, 0, 0, 0, 0, 0, 0, 0, 0, 0, 0, 0],\n",
              "        [0, 0, 0, 0, 0, 0, 0, 0, 0, 0, 0, 0, 0],\n",
              "        [0, 0, 0, 0, 0, 0, 0, 0, 0, 0, 0, 0, 0]]])"
            ]
          },
          "metadata": {},
          "execution_count": 86
        }
      ]
    },
    {
      "cell_type": "code",
      "source": [
        "W_cap.astype(int)"
      ],
      "metadata": {
        "colab": {
          "base_uri": "https://localhost:8080/"
        },
        "id": "xvHGf3qc4JYj",
        "outputId": "a4fd7da1-335a-44dd-ed22-b918284ac3cb"
      },
      "execution_count": null,
      "outputs": [
        {
          "output_type": "execute_result",
          "data": {
            "text/plain": [
              "array([[    7,     5,     8, 99999,     0,     0,     0,     0,     0,\n",
              "            0,     0,     0,     0],\n",
              "       [    0,     0,     0,     0,     5,     6,     7,     7, 99999,\n",
              "            0,     0,     0,     0],\n",
              "       [    0,     0,     0,     0,     0,     0,     0,     0,     0,\n",
              "            6,     7,     6, 99999]])"
            ]
          },
          "metadata": {},
          "execution_count": 87
        }
      ]
    },
    {
      "cell_type": "markdown",
      "source": [
        "# Evaluation"
      ],
      "metadata": {
        "id": "mUqwP4DhVyof"
      }
    },
    {
      "cell_type": "markdown",
      "source": [
        "System parameters:\n",
        "1. GPU: \n",
        "2. CPU:\n",
        "3. Core:\n",
        "4. Python version:"
      ],
      "metadata": {
        "id": "IiyZwDXNV7W2"
      }
    },
    {
      "cell_type": "markdown",
      "source": [
        "Model efficiency:\n",
        "1. #min\n",
        "2. time\n",
        "3. %LB"
      ],
      "metadata": {
        "id": "9YUNKVVeWPy6"
      }
    },
    {
      "cell_type": "markdown",
      "source": [
        "# Future work\n",
        "Optimize the problem with additional constraint about deadline.\n",
        "Combine the model with other heuristic methods to optimize performance."
      ],
      "metadata": {
        "id": "nkyhXqO0WUBQ"
      }
    }
  ]
}